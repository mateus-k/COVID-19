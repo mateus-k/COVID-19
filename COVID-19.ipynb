{
 "cells": [
  {
   "cell_type": "markdown",
   "metadata": {},
   "source": [
    "# Importing the libraries"
   ]
  },
  {
   "cell_type": "code",
   "execution_count": null,
   "metadata": {},
   "outputs": [],
   "source": [
    "#Make sure that you have all the librarys installed\n",
    "\n",
    "import numpy as np\n",
    "import pandas as pd\n",
    "import datetime\n",
    "from IPython.display import display, HTML\n",
    "import matplotlib.pyplot as plt\n",
    "import scipy.optimize as opt\n",
    "import warnings"
   ]
  },
  {
   "cell_type": "markdown",
   "metadata": {},
   "source": [
    "# Reading the data"
   ]
  },
  {
   "cell_type": "code",
   "execution_count": null,
   "metadata": {},
   "outputs": [],
   "source": [
    "urlConfirmed='https://raw.githubusercontent.com/CSSEGISandData/COVID-19/master/csse_covid_19_data/csse_covid_19_time_series/time_series_covid19_confirmed_global.csv'\n",
    "COVID19Series = pd.read_csv(urlConfirmed)\n",
    "\n",
    "urlDeaths='https://raw.githubusercontent.com/CSSEGISandData/COVID-19/master/csse_covid_19_data/csse_covid_19_time_series/time_series_covid19_deaths_global.csv'\n",
    "COVID19Deaths= pd.read_csv(urlDeaths)"
   ]
  },
  {
   "cell_type": "code",
   "execution_count": null,
   "metadata": {},
   "outputs": [],
   "source": [
    "FirstUpdate = COVID19Series.columns[4]\n",
    "LastUpdate = COVID19Series.columns[-1]\n",
    "\n",
    "print('First update:',FirstUpdate)\n",
    "print('Last update:',LastUpdate)"
   ]
  },
  {
   "cell_type": "markdown",
   "metadata": {},
   "source": [
    "## Functions"
   ]
  },
  {
   "cell_type": "code",
   "execution_count": null,
   "metadata": {},
   "outputs": [],
   "source": [
    "#Function to display all the data table\n",
    "def displayData(df,displayBool):\n",
    "    if displayBool==True:\n",
    "        #Setting to display all contents\n",
    "        pd.set_option('display.max_rows', len(df))\n",
    "        pd.set_option('display.max_columns', len(df))\n",
    "        #display the content\n",
    "        display(HTML(df.to_html()))"
   ]
  },
  {
   "cell_type": "code",
   "execution_count": null,
   "metadata": {},
   "outputs": [],
   "source": [
    "#Create a list of countries with highest number of the value of dataFrame\n",
    "def HighestCountries(df,numberOfcontries):\n",
    "    \n",
    "    #Trasnpose a DataFrame to use the nlargest method in LastUpdate column and traspose again \n",
    "    return df.T.nlargest(numberOfcontries,LastUpdate).T"
   ]
  },
  {
   "cell_type": "code",
   "execution_count": null,
   "metadata": {},
   "outputs": [],
   "source": [
    "#A function to create a DataFrame with how many days passed since the first numberOfCases\n",
    "def perDay(df, registeredCases):\n",
    "    \n",
    "    #create a empty list to append\n",
    "    y_array = []\n",
    "    for country in df.columns:\n",
    "        \n",
    "        #creates an array with values greater than numberOfCases\n",
    "        temp = np.array(df[country].T)\n",
    "        y_filter = np.where(temp > registeredCases) \n",
    "        y = list(temp[y_filter])\n",
    "        \n",
    "        #measures how many elements must be fill in\n",
    "        fillNaN = len(df.index)-len(y)\n",
    "        \n",
    "        #fill the last values arrays with NaN\n",
    "        y.extend(np.full(fillNaN, np.nan))\n",
    "        y_array.append(y)\n",
    "\n",
    "    return pd.DataFrame(y_array, index=df.columns).T"
   ]
  },
  {
   "cell_type": "code",
   "execution_count": null,
   "metadata": {},
   "outputs": [],
   "source": [
    "#A function to create a horizontal bar plot with an array of countries names\n",
    "def barPlot(CountryList,registeredCases,title):\n",
    "\n",
    "    numberOfCases = df[CountryList].iloc[-1]\n",
    "    numberOfDeaths = dfDeaths[CountryList].iloc[-1]\n",
    "    newCases =  numberOfCases - df[CountryList].iloc[-2]\n",
    "    newDeaths = numberOfDeaths - dfDeaths[CountryList].iloc[-2]\n",
    "    rateDeaths = (numberOfDeaths/numberOfCases)\n",
    "    \n",
    "    #mesures the how many days passed since the first numberOfCases\n",
    "    days = len(perDay(df[CountryList],registeredCases).index)- perDay(\n",
    "        df[CountryList],registeredCases).isna().sum()\n",
    "\n",
    "    fig, ax = plt.subplots(1, 1, figsize=(7, 3))\n",
    "    ax.barh(CountryList,numberOfCases, color='C2')\n",
    "    ax.barh(CountryList,numberOfCases - newCases,color='C0')\n",
    "    ax.barh(CountryList,numberOfDeaths,color='C1')\n",
    "    ax.barh(CountryList,numberOfDeaths - newDeaths,color='C3')\n",
    "    ax.legend(labels=['New Cases','Confirmed cases','New Deaths','Deaths'])\n",
    "    ax.set_xlabel('Number of Cases until the day %s' %LastUpdate)\n",
    "    ax.set_title(title)\n",
    "    \n",
    "\n",
    "\n",
    "    #Show the percentage of the deaths after the bars\n",
    "    for i, (value1,value2,value3, name) in enumerate(zip(newCases,numberOfDeaths,newDeaths,\n",
    "                                                         df[CountryList].columns)):\n",
    "        ax.text(numberOfCases[i], i, '%.0f  ' % (newCases[i]), ha='left', color='C2')\n",
    "        ax.text(numberOfDeaths[i], i, '''%.0f''' % (newDeaths[i]), ha='left', color='C1')\n",
    "\n",
    "        \n",
    "    #Zip to print and flip to displays data in the same order as the graph\n",
    "    printData=zip(np.flip(CountryList),np.flip(days),np.flip(numberOfCases),\n",
    "                  np.flip(numberOfDeaths),np.flip(rateDeaths*100),np.flip(newCases),np.flip(newDeaths))\n",
    "\n",
    "    print(\"Country: Days since %.0f first record; Total deaths; percentage of deaths; confimed Cases\"\n",
    "          %registeredCases)\n",
    "    print(\"\")\n",
    "    for country, days, numberOfCases,numberOfDeaths,rateDeaths,newCases,newDeaths in printData: \n",
    "        print (\"%s: %0.f; %.0f (%.0f new); %.2f%%; %.0f (%.0f new); \" %(country,days,numberOfDeaths,\n",
    "                                                        newDeaths,rateDeaths,numberOfCases,newCases))"
   ]
  },
  {
   "cell_type": "code",
   "execution_count": null,
   "metadata": {},
   "outputs": [],
   "source": [
    "#Define a exponetial function\n",
    "def exponential_func(x, a, b,c):\n",
    "    return a*np.exp(b*x) + c"
   ]
  },
  {
   "cell_type": "code",
   "execution_count": null,
   "metadata": {},
   "outputs": [],
   "source": [
    "def logistic_func(x, L, k, x0, A):\n",
    "    return L/(1+np.exp(k*(x-x0))) + A"
   ]
  },
  {
   "cell_type": "code",
   "execution_count": null,
   "metadata": {},
   "outputs": [],
   "source": [
    "#Create a DataFrame with a fit function\n",
    "def fit(df,registeredCases=0):\n",
    "\n",
    "    days = len(df.index)- perDay(\n",
    "        df,registeredCases).isna().sum()\n",
    "    \n",
    "    x_array = []\n",
    "    y_array = []\n",
    "    label_array=[]\n",
    "    for country in df.columns:\n",
    "        y=df.T.loc[country]\n",
    "        \n",
    "        y=y[:days[country]]\n",
    "        x=range(len(y))\n",
    "        \n",
    "        \n",
    "        #fit a function with the data\n",
    "        popt, pcov = opt.curve_fit(exponential_func, x, y, p0=(1, 1, 0), bounds=(0,[np.inf, 2, np.inf]))\n",
    "        label=['%s $e^{%.2ft}$' % (country,popt[1])]\n",
    "        label_array.extend(label)\n",
    "        \n",
    "        #Create a data fit\n",
    "        yy = exponential_func(x, *popt)\n",
    "        yy = list(yy)\n",
    "        \n",
    "        #fill the last values arrays with NaN\n",
    "        fillNaN = len(df.index)-len(y)\n",
    "        yy.extend(np.full(fillNaN, np.nan))\n",
    "        y_array.append(yy)\n",
    "    \n",
    "    return pd.DataFrame(y_array, index=label_array).T"
   ]
  },
  {
   "cell_type": "markdown",
   "metadata": {},
   "source": [
    "# Organizing the data"
   ]
  },
  {
   "cell_type": "code",
   "execution_count": null,
   "metadata": {
    "scrolled": true
   },
   "outputs": [],
   "source": [
    "#Display raw data\n",
    "displayData(COVID19Series,False)\n",
    "\n",
    "#Group by countries\n",
    "dfGroup = COVID19Series.groupby('Country/Region')\n",
    "\n",
    "#Transpose the data and sum all the regions of the country\n",
    "dfT = dfGroup.sum().T\n",
    "#Removing the latitude and longitude \n",
    "df = dfT.loc[FirstUpdate:]\n",
    "\n",
    "#Displays all confirmed cases of COVID-19 by days and countries\n",
    "displayData(df,False)\n",
    "\n",
    "#Group by countries\n",
    "dfDeathsGroup = COVID19Deaths.groupby('Country/Region')\n",
    "\n",
    "#Transpose the data and sum all the regions of the country\n",
    "dfDeathsT= dfDeathsGroup.sum().T\n",
    "\n",
    "#Removing the latitude and longitude \n",
    "dfDeaths = dfDeathsT.loc[FirstUpdate:]\n",
    "\n",
    "#Displays the entire COVID-19 deaths table by days and countries\n",
    "displayData(dfDeaths,False)"
   ]
  },
  {
   "cell_type": "markdown",
   "metadata": {},
   "source": [
    "# Plot the data of the confirmed cases"
   ]
  },
  {
   "cell_type": "code",
   "execution_count": null,
   "metadata": {},
   "outputs": [],
   "source": [
    "#plot a horizontal bar with the 10 countries with highest cases\n",
    "#barPlot(CountryList,registeredCases,title)\n",
    "barPlot(HighestCountries(df,numberOfcontries=10).columns,50,'10 countries with the highest case of COVID-19')"
   ]
  },
  {
   "cell_type": "code",
   "execution_count": null,
   "metadata": {},
   "outputs": [],
   "source": [
    "#plot a horizontal bar with the 10 countries with highest deaths\n",
    "barPlot(HighestCountries(dfDeaths,numberOfcontries=10).columns,50,'10 countries with the highest deaths of COVID-19')"
   ]
  },
  {
   "cell_type": "code",
   "execution_count": null,
   "metadata": {},
   "outputs": [],
   "source": [
    "HighestCountries(df,10).plot(marker='.',figsize=(15,5))\n",
    "plt.title('COVID-19')\n",
    "plt.xlabel('Day')\n",
    "plt.ylabel('Confirmed Cases')\n",
    "plt.grid()\n",
    "#plt.savefig('ConfirmedCasesInCalendar.png', dpi=300)"
   ]
  },
  {
   "cell_type": "code",
   "execution_count": null,
   "metadata": {
    "scrolled": true
   },
   "outputs": [],
   "source": [
    "HighestCountries(dfDeaths,10).plot(marker='.',figsize=(15,5))\n",
    "plt.title('Deaths by COVID-19')\n",
    "plt.xlabel('Day')\n",
    "plt.ylabel('Deaths')\n",
    "plt.grid()\n",
    "#plt.savefig('DeathsInCalendar.png', dpi=300)"
   ]
  },
  {
   "cell_type": "code",
   "execution_count": null,
   "metadata": {},
   "outputs": [],
   "source": [
    "D=100\n",
    "perDay(HighestCountries(df,10),D).plot(marker='.',figsize=(15,5))\n",
    "plt.title('COVID-19')\n",
    "plt.ylabel('Confirmed Cases')\n",
    "plt.grid()\n",
    "perDay(HighestCountries(df,10),D).plot(logy=True, marker='.',figsize=(15,5))\n",
    "plt.ylabel('Confirmed Cases')\n",
    "if D==0:\n",
    "    plt.xlabel('Days since the first record'),\n",
    "else:\n",
    "    plt.xlabel('Days since the %d first record' % D)\n",
    "plt.grid()\n",
    "#plt.savefig('CasesVSDays.png', dpi=300)"
   ]
  },
  {
   "cell_type": "code",
   "execution_count": null,
   "metadata": {},
   "outputs": [],
   "source": [
    "D=0\n",
    "perDay(HighestCountries(dfDeaths,10),D).plot(marker='.',figsize=(15,5))\n",
    "plt.title('Deaths by COVID-19')\n",
    "plt.ylabel('Deaths')\n",
    "plt.grid()\n",
    "perDay(HighestCountries(dfDeaths,10),D).plot(logy=True, marker='.',figsize=(15,5))\n",
    "plt.ylabel('Deaths')\n",
    "if D==0:\n",
    "    plt.xlabel('Days since the first record'),\n",
    "else:\n",
    "    plt.xlabel('Days since the %d first record' % D)\n",
    "plt.grid()\n",
    "#plt.savefig('DeathsVSDays.png', dpi=300)"
   ]
  },
  {
   "cell_type": "code",
   "execution_count": null,
   "metadata": {},
   "outputs": [],
   "source": [
    "D=0\n",
    "ax = perDay(HighestCountries(dfDeaths,10),D).plot(style='.')\n",
    "ax.legend('')\n",
    "fit(perDay(HighestCountries(dfDeaths,10),D)).plot(ax=ax, figsize=(15,10))\n",
    "plt.title('Fit of the deaths by COVID-19')\n",
    "plt.ylabel('Deaths')\n",
    "plt.grid()\n",
    "ax = perDay(HighestCountries(dfDeaths,10),D).plot(style='.')\n",
    "ax.legend('')\n",
    "fit(perDay(HighestCountries(dfDeaths,10),D)).plot(ax=ax, logy=True, figsize=(15,10))\n",
    "plt.ylabel('Deaths')\n",
    "if D==0:\n",
    "    plt.xlabel('t days since the first record'),\n",
    "else:\n",
    "    plt.xlabel('t days since the %d first record' % D)\n",
    "plt.grid()\n",
    "plt.savefig('FitDeathsVSDays.png', dpi=300)\n",
    "warnings.filterwarnings('ignore')"
   ]
  },
  {
   "cell_type": "code",
   "execution_count": null,
   "metadata": {},
   "outputs": [],
   "source": []
  }
 ],
 "metadata": {
  "kernelspec": {
   "display_name": "Python 3",
   "language": "python",
   "name": "python3"
  },
  "language_info": {
   "codemirror_mode": {
    "name": "ipython",
    "version": 3
   },
   "file_extension": ".py",
   "mimetype": "text/x-python",
   "name": "python",
   "nbconvert_exporter": "python",
   "pygments_lexer": "ipython3",
   "version": "3.6.9"
  }
 },
 "nbformat": 4,
 "nbformat_minor": 2
}
